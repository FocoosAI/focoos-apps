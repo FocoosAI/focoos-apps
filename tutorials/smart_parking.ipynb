{
 "cells": [
  {
   "cell_type": "markdown",
   "id": "ee3ba4d5",
   "metadata": {},
   "source": [
    "# 🚗 Smart Parking Application Tutorial\n",
    "\n",
    "Welcome to the **Smart Parking Application** tutorial! This notebook will guide you through setting up and using the AI-powered parking space detection system."
   ]
  },
  {
   "cell_type": "markdown",
   "id": "installation",
   "metadata": {},
   "source": [
    "## 📦 Installation\n",
    "\n",
    "Choose the installation option that matches your hardware setup:"
   ]
  },
  {
   "cell_type": "markdown",
   "id": "cpu-install",
   "metadata": {},
   "source": [
    "### CPU Installation\n",
    "\n",
    "For running on CPU (good for development and testing):"
   ]
  },
  {
   "cell_type": "code",
   "execution_count": null,
   "id": "012387c3",
   "metadata": {},
   "outputs": [],
   "source": [
    "!pip install 'focoos[onnx-cpu] @ git+https://github.com/FocoosAI/focoos.git'"
   ]
  },
  {
   "cell_type": "markdown",
   "id": "gpu-install",
   "metadata": {},
   "source": [
    "### GPU Installation\n",
    "\n",
    "For running on NVIDIA GPU (faster processing):"
   ]
  },
  {
   "cell_type": "code",
   "execution_count": null,
   "id": "cf2fa891",
   "metadata": {},
   "outputs": [],
   "source": [
    "!pip install 'focoos-apps[onnx-gpu] @ git+https://github.com/FocoosAI/focoos.git'"
   ]
  },
  {
   "cell_type": "markdown",
   "id": "tensorrt-install",
   "metadata": {},
   "source": [
    "### TensorRT Installation\n",
    "\n",
    "For optimal performance with NVIDIA TensorRT:"
   ]
  },
  {
   "cell_type": "code",
   "execution_count": null,
   "id": "bd0d0947",
   "metadata": {},
   "outputs": [],
   "source": [
    "!pip install 'focoos-apps[tensorrt] @ git+https://github.com/FocoosAI/focoos.git'"
   ]
  },
  {
   "cell_type": "markdown",
   "id": "quick-start",
   "metadata": {},
   "source": [
    "## 🚀 Quick Start with Pretrained Model\n",
    "\n",
    "The easiest way to get started is using our pretrained model. You can download the model, example video, and parking zones:"
   ]
  },
  {
   "cell_type": "code",
   "execution_count": null,
   "id": "download-data",
   "metadata": {},
   "outputs": [],
   "source": [
    "# Download the pretrained model and example data\n",
    "!wget https://public.focoos.ai/apps/smart_parking.tar.gz\n",
    "\n",
    "# Extract the files\n",
    "!tar -xzf smart_parking.tar.gz\n",
    "\n",
    "print(\"✅ Downloaded and extracted pretrained model and example data!\")"
   ]
  },
  {
   "cell_type": "markdown",
   "id": "pretrained-setup",
   "metadata": {},
   "source": [
    "The extracted folder contains:\n",
    "```\n",
    "smart_parking/\n",
    "├── model/                # Pretrained model\n",
    "├── parking_lot.mp4       # Example video\n",
    "└── parking_zones.json    # Parking zones\n",
    "```"
   ]
  },
  {
   "cell_type": "markdown",
   "id": "pretrained-import",
   "metadata": {},
   "source": [
    "### 📚 Import and Initialize with Pretrained Model"
   ]
  },
  {
   "cell_type": "code",
   "execution_count": null,
   "id": "pretrained-import",
   "metadata": {},
   "outputs": [],
   "source": [
    "# Import the SmartParkingApp class\n",
    "from focoos_apps.apps.smart_parking import SmartParkingApp\n",
    "\n",
    "# Initialize the application with pretrained model\n",
    "pretrained_parking_app = SmartParkingApp(\n",
    "    input_video=\"smart_parking/parking_lot.mp4\",        # Input video file\n",
    "    model_name=\"smart_parking/model\",                   # Local model path\n",
    "    zones_file=\"smart_parking/parking_zones.json\",      # Zones file\n",
    "    runtime=\"tensorrt\",                                 # Runtime type (cpu, cuda, tensorrt)\n",
    "    output_video=\"output_pretrained_analysis.mp4\"       # Output video file (optional)\n",
    ")\n",
    "\n",
    "print(\"✅ Pretrained Smart Parking App initialized!\")"
   ]
  },
  {
   "cell_type": "markdown",
   "id": "pretrained-run",
   "metadata": {},
   "source": [
    "### 🚀 Running with Pretrained Model"
   ]
  },
  {
   "cell_type": "code",
   "execution_count": null,
   "id": "pretrained-run",
   "metadata": {},
   "outputs": [],
   "source": [
    "# Run the application with pretrained model\n",
    "pretrained_parking_app.run()\n",
    "\n",
    "print(\"✅ Pretrained Smart Parking App run completed!\")"
   ]
  },
  {
   "cell_type": "markdown",
   "id": "focoos-platform",
   "metadata": {},
   "source": [
    "## 🌐 Using Models Trained on Focoos AI Platform\n",
    "\n",
    "For production use or custom models, you can use models trained on the [Focoos AI platform](https://platform.focoos.ai).\n",
    "You can both train a custom model or use a platform pretrained model. This requires the signup to the platform to obtain your API key.\n",
    "\n",
    "### 🔑 Getting Your API Key (for Focoos Platform Models)\n",
    "\n",
    "1. Visit [https://app.focoos.ai](https://app.focoos.ai)\n",
    "2. Sign up or log in to your account\n",
    "3. Navigate to the API section\n",
    "4. Copy the key for use in this tutorial\n",
    "\n",
    "\n",
    "### Training a Custom Model\n",
    "\n",
    "To train a custom model, here's the process:\n",
    "\n",
    "1. **Sign up to the platform**: Create an account on the [Focoos AI Platform](https://platform.focoos.ai)\n",
    "2. **Load a custom dataset**: Prepare and upload your dataset with proper annotations\n",
    "3. **Choose a pretrained model**: Select a base model that matches your task requirements\n",
    "4. **Launch the training**: Start the fine-tuning process on your specific dataset\n",
    "5. **Monitor the training**: Track progress and performance metrics in real-time\n",
    "6. **Export and deploy**: Once training is complete, use the provided code snippets to deploy your custom trained models for various runtime types\n",
    "\n",
    "### Using a Platform Pretrained Model\n",
    "\n",
    "To use a platform pretrained model, you can use the provided code snippets to deploy the pretrained model for various runtime types."
   ]
  },
  {
   "cell_type": "markdown",
   "id": "focoos-setup",
   "metadata": {},
   "source": [
    "### ⚙️ Focoos Platform Configuration\n",
    "\n",
    "Set up your configuration for Focoos platform models:"
   ]
  },
  {
   "cell_type": "code",
   "execution_count": null,
   "id": "focoos-config",
   "metadata": {},
   "outputs": [],
   "source": [
    "# 🔑 Your Focoos AI API Key (get from https://app.focoos.ai)\n",
    "FOCOOS_API_KEY = \"your_api_key_here\"  # Replace with your actual API key\n",
    "\n",
    "# 🤖 Model reference from Focoos platform\n",
    "MODEL_REF = \"hub://your_model_reference\"  # Replace with your model reference\n",
    "\n",
    "# 📹 Input video file path\n",
    "INPUT_VIDEO = \"path/to/input.mp4\"  # Replace with path to your video file\n",
    "\n",
    "# 📁 Output video file path (optional)\n",
    "OUTPUT_VIDEO = \"output_platform_analysis.mp4\"\n",
    "\n",
    "# 📄 Zones file path (optional - will be created if not exists)\n",
    "ZONES_FILE = \"parking_zones.json\"\n",
    "\n",
    "# 🚀 Runtime type (cpu, cuda, tensorrt)\n",
    "RUNTIME = \"tensorrt\"\n",
    "\n",
    "print(\"✅ Focoos platform configuration ready!\")"
   ]
  },
  {
   "cell_type": "markdown",
   "id": "focoos-import",
   "metadata": {},
   "source": [
    "### 📚 Import and Initialize with Focoos Platform Model"
   ]
  },
  {
   "cell_type": "code",
   "execution_count": null,
   "id": "focoos-import",
   "metadata": {},
   "outputs": [],
   "source": [
    "# Initialize the application with Focoos platform model\n",
    "platform_parking_app = SmartParkingApp(\n",
    "    input_video=INPUT_VIDEO,                    # Input video file\n",
    "    model_name=MODEL_REF,                       # Model reference from Focoos platform\n",
    "    api_key=FOCOOS_API_KEY,                     # Your Focoos API key\n",
    "    runtime=RUNTIME,                            # Runtime type (cpu, cuda, tensorrt)\n",
    "    output_video=OUTPUT_VIDEO,                  # Output video file (optional)\n",
    "    zones_file=ZONES_FILE                       # Zones file (optional)\n",
    ")\n",
    "\n",
    "print(\"✅ Focoos Platform Smart Parking App initialized!\")"
   ]
  },
  {
   "cell_type": "markdown",
   "id": "focoos-run",
   "metadata": {},
   "source": [
    "### 🚀 Running with Focoos Platform Model"
   ]
  },
  {
   "cell_type": "code",
   "execution_count": null,
   "id": "focoos-run",
   "metadata": {},
   "outputs": [],
   "source": [
    "# Run the application with Focoos platform model\n",
    "platform_parking_app.run()\n",
    "\n",
    "print(\"✅ Focoos Platform Smart Parking App run completed!\")"
   ]
  },
  {
   "cell_type": "markdown",
   "id": "zone-creation",
   "metadata": {},
   "source": [
    "## 🎨 Interactive Zone Creation\n",
    "\n",
    "The Smart Parking App has two modes of operation:\n",
    "\n",
    "### 📋 Mode 1: Using Existing Zones\n",
    "If you already have a zones file, the app will use it directly.\n",
    "\n",
    "### 🎯 Mode 2: Creating New Zones (Interactive)\n",
    "If no zones file exists, the app will:\n",
    "1. Extract the first frame from your video\n",
    "2. Open an interactive zone editor\n",
    "3. Let you define parking zones\n",
    "4. Save the zones and process the video\n",
    "\n",
    "### 🖱️ Zone Editor Controls\n",
    "\n",
    "When the interactive editor opens, you'll see these controls:\n",
    "\n",
    "- **Load Image**: Select a different image to work with\n",
    "- **Left Click**: Add vertices to create a parking zone (4 vertices per zone)\n",
    "- **Undo Point**: Remove the last added vertex\n",
    "- **Undo Region**: Remove the last completed region\n",
    "- **Export**: Save zones to JSON file\n",
    "\n",
    "### 📐 How to Create Parking Zones\n",
    "\n",
    "1. **Start with the first parking space**: Click 4 points to define the corners\n",
    "2. **Follow the order**: Click in clockwise or counter-clockwise order\n",
    "3. **Complete the zone**: After the 4th click, the zone will automatically complete\n",
    "4. **Repeat**: Continue for all parking spaces in your lot\n",
    "5. **Export**: Click \"Export\" to save your zones"
   ]
  },
  {
   "cell_type": "markdown",
   "id": "next-steps",
   "metadata": {},
   "source": [
    "## 🎯 Next Steps\n",
    "\n",
    "Congratulations! You've successfully set up and run the Smart Parking App with both pretrained and platform models. Here are some ideas for what you can develop next:\n",
    "\n",
    "- **Batch Processing**: Process multiple videos\n",
    "- **Integration**: Connect to parking management systems\n",
    "- **Peak Hours Analysis**: Identify busiest parking times\n",
    "- **Occupancy Trends**: Track usage patterns over days/weeks\n",
    "- **Custom Models**: Train models for specific vehicle types"
   ]
  },
  {
   "cell_type": "markdown",
   "id": "support",
   "metadata": {},
   "source": [
    "**🎉 Thank you for using the Smart Parking Application!**\n",
    "\n",
    "We hope this tutorial has been helpful. Feel free to reach out if you need any assistance or have suggestions for improvements."
   ]
  }
 ],
 "metadata": {
  "kernelspec": {
   "display_name": "Python 3",
   "language": "python",
   "name": "python3"
  },
  "language_info": {
   "codemirror_mode": {
    "name": "ipython",
    "version": 3
   },
   "file_extension": ".py",
   "mimetype": "text/x-python",
   "name": "python",
   "nbconvert_exporter": "python",
   "pygments_lexer": "ipython3",
   "version": "3.12.11"
  }
 },
 "nbformat": 4,
 "nbformat_minor": 5
}
