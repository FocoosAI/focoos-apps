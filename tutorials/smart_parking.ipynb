{
 "cells": [
  {
   "cell_type": "markdown",
   "id": "ee3ba4d5",
   "metadata": {},
   "source": [
    "# 🚗 Smart Parking Application Tutorial\n",
    "\n",
    "Welcome to the **Smart Parking Application** tutorial! This notebook will guide you through setting up and using the AI-powered parking space detection system."
   ]
  },
  {
   "cell_type": "markdown",
   "id": "prerequisites",
   "metadata": {},
   "source": [
    "## 📋 Prerequisites\n",
    "\n",
    "Before you begin, you'll need:\n",
    "\n",
    "1. **Focoos AI API Key**: Get your API key from [Focoos AI Platform](https://app.focoos.ai)\n",
    "2. **Model Reference**: Use the provided model reference or your own trained model\n",
    "3. **Input Video**: A video file of your parking lot\n",
    "4. **Python Environment**: Python 3.10+ with pip\n",
    "\n",
    "### 🔑 Getting Your API Key\n",
    "\n",
    "1. Visit [https://app.focoos.ai](https://app.focoos.ai)\n",
    "2. Sign up or log in to your account\n",
    "3. Navigate to the API section\n",
    "5. Copy the key for use in this tutorial"
   ]
  },
  {
   "cell_type": "markdown",
   "id": "installation",
   "metadata": {},
   "source": [
    "## 📦 Installation\n",
    "\n",
    "Choose the installation option that matches your hardware setup:"
   ]
  },
  {
   "cell_type": "markdown",
   "id": "cpu-install",
   "metadata": {},
   "source": [
    "### CPU Installation\n",
    "\n",
    "For running on CPU (good for development and testing):"
   ]
  },
  {
   "cell_type": "code",
   "execution_count": null,
   "id": "012387c3",
   "metadata": {},
   "outputs": [],
   "source": [
    "!pip install 'focoos[onnx-cpu] @ git+https://github.com/FocoosAI/focoos.git'"
   ]
  },
  {
   "cell_type": "markdown",
   "id": "gpu-install",
   "metadata": {},
   "source": [
    "### GPU Installation\n",
    "\n",
    "For running on NVIDIA GPU (faster processing):"
   ]
  },
  {
   "cell_type": "code",
   "execution_count": null,
   "id": "cf2fa891",
   "metadata": {},
   "outputs": [],
   "source": [
    "!pip install 'focoos-apps[onnx-gpu] @ git+https://github.com/FocoosAI/focoos.git'"
   ]
  },
  {
   "cell_type": "markdown",
   "id": "tensorrt-install",
   "metadata": {},
   "source": [
    "### TensorRT Installation\n",
    "\n",
    "For optimal performance with NVIDIA TensorRT:"
   ]
  },
  {
   "cell_type": "code",
   "execution_count": null,
   "id": "bd0d0947",
   "metadata": {},
   "outputs": [],
   "source": [
    "!pip install 'focoos-apps[tensorrt] @ git+https://github.com/FocoosAI/focoos.git'"
   ]
  },
  {
   "cell_type": "markdown",
   "id": "setup",
   "metadata": {},
   "source": [
    "## ⚙️ Configuration Setup\n",
    "\n",
    "Now let's set up your configuration. Replace the `None` values with your actual credentials and file paths:"
   ]
  },
  {
   "cell_type": "code",
   "execution_count": null,
   "id": "8dff2506",
   "metadata": {},
   "outputs": [],
   "source": [
    "# 🔑 Your Focoos AI API Key (get from https://app.focoos.ai)\n",
    "FOCOOS_API_KEY = None  # Replace with your actual API key\n",
    "\n",
    "# 🤖 Model reference\n",
    "MODEL_REF = None  # Replace with your model reference (e.g., \"hub://model_ref\")\n",
    "\n",
    "# ⚡ Runtime type (cpu, gpu, tensorrt)\n",
    "RUNTIME = None  # Replace with your preferred runtime\n",
    "\n",
    "# 📹 Input video file path\n",
    "INPUT_VIDEO = None  # Replace with path to your video file\n",
    "\n",
    "# 📁 Output video file path (optional)\n",
    "OUTPUT_VIDEO = \"output_parking_analysis.mp4\"\n",
    "\n",
    "# 📄 Zones file path (optional - will be created if not exists)\n",
    "ZONES_FILE = \"parking_zones.json\""
   ]
  },
  {
   "cell_type": "markdown",
   "id": "import",
   "metadata": {},
   "source": [
    "## 📚 Import and Initialize\n",
    "\n",
    "Let's import the Smart Parking App and set up our application:"
   ]
  },
  {
   "cell_type": "code",
   "execution_count": null,
   "id": "17669050",
   "metadata": {},
   "outputs": [],
   "source": [
    "# Import the SmartParkingApp class\n",
    "from focoos_apps.apps.smart_parking import SmartParkingApp\n",
    "\n",
    "# Initialize the application\n",
    "smart_parking_app = SmartParkingApp(\n",
    "    input_video=INPUT_VIDEO,           # Input video file\n",
    "    model_ref=MODEL_REF,               # Model reference\n",
    "    api_key=FOCOOS_API_KEY,            # Your Focoos API key\n",
    "    runtime=RUNTIME,                   # Runtime (cpu, gpu, tensorrt)\n",
    "    output_video=OUTPUT_VIDEO,         # Output video file\n",
    "    zones_file=ZONES_FILE,             # Zones file (optional)\n",
    ")\n",
    "\n",
    "print(\"✅ Smart Parking App initialized!\")"
   ]
  },
  {
   "cell_type": "markdown",
   "id": "6f02d851",
   "metadata": {},
   "source": [
    "## 🚀 Running the Application\n",
    "\n",
    "Now let's run the Smart Parking App!\n",
    "\n",
    "⚠️ **Important**: If you don't have a zones file, the interactive editor will open. Follow the instructions below to create your parking zones."
   ]
  },
  {
   "cell_type": "code",
   "execution_count": null,
   "id": "c8c3a35d",
   "metadata": {},
   "outputs": [],
   "source": [
    "# Run the application\n",
    "smart_parking_app.run()\n",
    "\n",
    "print(\"✅ Smart Parking App run completed!\")"
   ]
  },
  {
   "cell_type": "markdown",
   "id": "zone-creation",
   "metadata": {},
   "source": [
    "## 🎨 Interactive Zone Creation\n",
    "\n",
    "The Smart Parking App has two modes of operation:\n",
    "\n",
    "### 📋 Mode 1: Using Existing Zones\n",
    "If you already have a zones file, the app will use it directly.\n",
    "\n",
    "### 🎯 Mode 2: Creating New Zones (Interactive)\n",
    "If no zones file exists, the app will:\n",
    "1. Extract the first frame from your video\n",
    "2. Open an interactive zone editor\n",
    "3. Let you define parking zones\n",
    "4. Save the zones and process the video\n",
    "\n",
    "### 🖱️ Zone Editor Controls\n",
    "\n",
    "When the interactive editor opens, you'll see these controls:\n",
    "\n",
    "- **Load Image**: Select a different image to work with\n",
    "- **Left Click**: Add vertices to create a parking zone (4 vertices per zone)\n",
    "- **Undo Point**: Remove the last added vertex\n",
    "- **Undo Region**: Remove the last completed region\n",
    "- **Export**: Save zones to JSON file\n",
    "\n",
    "### 📐 How to Create Parking Zones\n",
    "\n",
    "1. **Start with the first parking space**: Click 4 points to define the corners\n",
    "2. **Follow the order**: Click in clockwise or counter-clockwise order\n",
    "3. **Complete the zone**: After the 4th click, the zone will automatically complete\n",
    "4. **Repeat**: Continue for all parking spaces in your lot\n",
    "5. **Export**: Click \"Export\" to save your zones"
   ]
  },
  {
   "cell_type": "markdown",
   "id": "next-steps",
   "metadata": {},
   "source": [
    "## 🎯 Next Steps\n",
    "\n",
    "Congratulations! You've successfully set up and run the Smart Parking App. Here are some ideas for what you can develop next:\n",
    "\n",
    "\n",
    "- **Batch Processing**: Process multiple videos\n",
    "- **Integration**: Connect to parking management systems\n",
    "- **Peak Hours Analysis**: Identify busiest parking times\n",
    "- **Occupancy Trends**: Track usage patterns over days/weeks\n",
    "- **Custom Models**: Train models for specific vehicle types\n"
   ]
  },
  {
   "cell_type": "markdown",
   "id": "support",
   "metadata": {},
   "source": [
    "\n",
    "**🎉 Thank you for using the Smart Parking Application!**\n",
    "\n",
    "We hope this tutorial has been helpful. Feel free to reach out if you need any assistance or have suggestions for improvements."
   ]
  }
 ],
 "metadata": {
  "kernelspec": {
   "display_name": "Python 3",
   "language": "python",
   "name": "python3"
  },
  "language_info": {
   "name": "python",
   "version": "3.12.11"
  }
 },
 "nbformat": 4,
 "nbformat_minor": 5
}
